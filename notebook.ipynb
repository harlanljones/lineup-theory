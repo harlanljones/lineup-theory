{
  "cells": [
    {
      "cell_type": "code",
      "execution_count": null,
      "metadata": {
        "id": "C257XBpMBXS4"
      },
      "outputs": [
        {
          "ename": "",
          "evalue": "",
          "output_type": "error",
          "traceback": [
            "\u001b[1;31mThe kernel failed to start due to the missing module 'pickleshare'. Consider installing this module.\n",
            "\u001b[1;31mClick <a href='https://aka.ms/kernelFailuresMissingModule'>here</a> for more info."
          ]
        }
      ],
      "source": [
        "import pandas as pd\n",
        "import matplotlib.pyplot as plt\n",
        "import numpy as np"
      ]
    },
    {
      "cell_type": "code",
      "execution_count": null,
      "metadata": {
        "id": "uhadmByoHfLI"
      },
      "outputs": [],
      "source": [
        "def process_red_sox_data(filepath):\n",
        "    \"\"\"\n",
        "    Reads and cleans the batting split data from the given file.\n",
        "\n",
        "    This function handles file loading, filters for 'Batting' splits,\n",
        "    converts necessary columns to numeric types, and calculates the\n",
        "    'RC_per_PA' statistic.\n",
        "\n",
        "    Args:\n",
        "        filepath (str): The path to the data file.\n",
        "\n",
        "    Returns:\n",
        "        pd.DataFrame: A cleaned and processed DataFrame with RC/PA,\n",
        "                      or None if an error occurs during file processing.\n",
        "    \"\"\"\n",
        "    \n",
        "    try:\n",
        "        df = pd.read_csv(filepath)\n",
        "    except FileNotFoundError:\n",
        "        print(f\"Error: The file '{filepath}' was not found.\")\n",
        "        return None\n",
        "    except Exception as e:\n",
        "        print(f\"An error occurred while reading the file: {e}\")\n",
        "        return None\n",
        "\n",
        "    # --- Data Cleaning and Filtering ---\n",
        "    # Filter for rows related to batting splits\n",
        "    batting_df = df[df['Split'].str.startswith('Batting', na=False)].copy()\n",
        "\n",
        "    # Convert relevant columns to numeric, coercing errors to NaN\n",
        "    for col in ['Year', 'RC', 'PA']:\n",
        "        batting_df[col] = pd.to_numeric(batting_df[col], errors='coerce')\n",
        "\n",
        "    # Drop rows where essential data is missing\n",
        "    batting_df.dropna(subset=['Year', 'RC', 'PA'], inplace=True)\n",
        "\n",
        "    # Calculate Runs Created per Plate Appearance (RC/PA)\n",
        "    batting_df = batting_df[batting_df['PA'] != 0].copy()\n",
        "    batting_df['RC_per_PA'] = batting_df['RC'] / batting_df['PA']\n",
        "\n",
        "    # Ensure 'Year' is an integer type\n",
        "    batting_df['Year'] = batting_df['Year'].astype(int)\n",
        "\n",
        "    return batting_df"
      ]
    },
    {
      "cell_type": "code",
      "execution_count": null,
      "metadata": {
        "id": "GgvnytWxHhAt"
      },
      "outputs": [],
      "source": [
        "def create_red_sox_plots(df):\n",
        "    \"\"\"\n",
        "    Generates and displays a 3x3 grid of subplots for each batting split,\n",
        "    showing RC/PA over time.\n",
        "\n",
        "    Args:\n",
        "        df (pd.DataFrame): The processed DataFrame containing batting data.\n",
        "    \"\"\"\n",
        "\n",
        "    analysis_df = df.copy()\n",
        "\n",
        "    unique_splits = sorted(analysis_df['Split'].unique())\n",
        "\n",
        "    if not unique_splits:\n",
        "        print(\"No data rows found to plot for the given criteria.\")\n",
        "        return\n",
        "\n",
        "    nrows, ncols = 3, 3\n",
        "    _, axes = plt.subplots(nrows, ncols, figsize=(18, 15))\n",
        "\n",
        "    # Flatten the 2D axes array into a 1D array for easy iteration\n",
        "    axes = axes.flatten()\n",
        "\n",
        "    # Loop through each split and its corresponding subplot axis\n",
        "    for i, split in enumerate(unique_splits):\n",
        "        ax = axes[i]\n",
        "        split_data = analysis_df[analysis_df['Split'] == split]\n",
        "\n",
        "        # Ensure there are at least two data points to create a line\n",
        "        if split_data.shape[0] < 2:\n",
        "            print(f\"Skipping plot for '{split}' due to insufficient data points.\")\n",
        "            ax.set_title(f\"'{split}'\\n(Not enough data)\")\n",
        "            ax.axis('off') # Hide axis for empty plot\n",
        "            continue\n",
        "\n",
        "        x_axis = split_data['Year']\n",
        "        y_axis = split_data['RC_per_PA']\n",
        "\n",
        "        m, b = np.polyfit(x_axis, y_axis, 1)\n",
        "\n",
        "        # Create the scatter plot and the best-fit line on the specific subplot\n",
        "        ax.scatter(x_axis, y_axis, label='Actual RC/PA Data', color='royalblue', alpha=0.8)\n",
        "        ax.plot(x_axis, m * x_axis + b, color='red', linewidth=2, label=f'Fit (y={m:.4f}x + {b:.4f})')\n",
        "\n",
        "        # Format the subplot\n",
        "        ax.set_title(f\"RC/PA vs Year\", fontsize=12, weight='bold')\n",
        "        ax.set_xlabel(\"Year\", fontsize=10)\n",
        "        ax.set_ylabel(\"RC per Plate Appearance\", fontsize=10)\n",
        "        ax.legend(fontsize=8)\n",
        "        ax.grid(True, linestyle='--', alpha=0.6)\n",
        "        ax.tick_params(axis='x', rotation=45, labelsize=9)\n",
        "        ax.tick_params(axis='y', labelsize=9)\n",
        "        ax.xaxis.set_major_locator(plt.MaxNLocator(integer=True, nbins=6))\n",
        "\n",
        "    # Turn off any unused subplots in the grid\n",
        "    for j in range(len(unique_splits), len(axes)):\n",
        "        axes[j].axis('off')\n",
        "\n",
        "    # Adjust layout to prevent titles and labels from overlapping\n",
        "    plt.tight_layout(pad=3.0)\n",
        "\n",
        "    plt.show()"
      ]
    },
    {
      "cell_type": "code",
      "execution_count": null,
      "metadata": {
        "id": "8oJhVcIIHlLb"
      },
      "outputs": [],
      "source": [
        "def create_summary_table(df, start_years):\n",
        "    \"\"\"\n",
        "    Calculates trendline gradients for different start years and prints a summary table.\n",
        "\n",
        "    Args:\n",
        "        df (pd.DataFrame): The processed DataFrame containing batting data.\n",
        "        start_years (list of int): A list of years to use as starting points for trend analysis.\n",
        "    \"\"\"\n",
        "    summary_data = {}\n",
        "    all_splits = sorted(df['Split'].unique())\n",
        "\n",
        "    # Calculate gradients for each defined start year period\n",
        "    for year in start_years:\n",
        "        yearly_gradients = {}\n",
        "        period_df = df[df['Year'] >= year]\n",
        "\n",
        "        for split in all_splits:\n",
        "            split_data = period_df[period_df['Split'] == split]\n",
        "\n",
        "            # Calculate gradient only if there's enough data for a line\n",
        "            if split_data.shape[0] >= 2:\n",
        "                m, _ = np.polyfit(split_data['Year'], split_data['RC_per_PA'], 1)\n",
        "                yearly_gradients[split] = m\n",
        "            else:\n",
        "                yearly_gradients[split] = np.nan  # Use NaN for insufficient data\n",
        "\n",
        "        summary_data[f'Gradient ({year}-Present)'] = yearly_gradients\n",
        "\n",
        "    summary_df = pd.DataFrame(summary_data, index=all_splits)\n",
        "    summary_df.index.name = 'Batting Split'\n",
        "\n",
        "    print(\"\\n--- Summary of Gradients (Trend of RC/PA over Different Periods) ---\")\n",
        "    print(summary_df.to_string(float_format=\"{:+.6f}\".format))"
      ]
    },
    {
      "cell_type": "code",
      "execution_count": null,
      "metadata": {
        "colab": {
          "base_uri": "https://localhost:8080/",
          "height": 1000
        },
        "id": "43mNqWWfHrbQ",
        "outputId": "39a95d1c-87b6-4928-d0e9-2693e7778b35"
      },
      "outputs": [],
      "source": [
        "if __name__ == '__main__':\n",
        "    file_path = 'redsox_2003_2025_team_batting_splits.csv'\n",
        "\n",
        "    # Define the start years to be used as columns in the summary table\n",
        "    summary_start_years = [2003, 2008, 2013, 2018]\n",
        " \n",
        "    # 1. Load and process the data\n",
        "    processed_df = process_red_sox_data(file_path)\n",
        "\n",
        "    if processed_df is not None and not processed_df.empty:\n",
        "        # 2. Create and display plots for the full data range\n",
        "        min_year = processed_df['Year'].min()\n",
        "        create_red_sox_plots(processed_df, start_year=min_year)\n",
        "\n",
        "        # 3. Create and print the summary table with multiple trend periods\n",
        "        create_summary_table(processed_df, summary_start_years)\n",
        "    else:\n",
        "        print(\"Analysis could not be completed due to data processing errors.\")"
      ]
    }
  ],
  "metadata": {
    "colab": {
      "provenance": []
    },
    "kernelspec": {
      "display_name": "Baseball",
      "language": "python",
      "name": "python3"
    },
    "language_info": {
      "name": "python",
      "version": "3.12.9"
    }
  },
  "nbformat": 4,
  "nbformat_minor": 0
}
